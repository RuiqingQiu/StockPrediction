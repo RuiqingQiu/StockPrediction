{
 "cells": [
  {
   "cell_type": "code",
   "execution_count": 96,
   "metadata": {
    "collapsed": true
   },
   "outputs": [],
   "source": [
    "import pandas as pd\n",
    "import numpy as np\n",
    "import urllib.request\n",
    "import json\n",
    "import datetime"
   ]
  },
  {
   "cell_type": "code",
   "execution_count": 37,
   "metadata": {
    "collapsed": true
   },
   "outputs": [],
   "source": [
    "csv_file_name_for_top_500 = 's&p_top500.csv'\n",
    "csv_file_name_for_info_tech_companies = 'tech_sector_companies.csv'"
   ]
  },
  {
   "cell_type": "code",
   "execution_count": 84,
   "metadata": {
    "scrolled": true
   },
   "outputs": [
    {
     "data": {
      "text/html": [
       "<div>\n",
       "<style>\n",
       "    .dataframe thead tr:only-child th {\n",
       "        text-align: right;\n",
       "    }\n",
       "\n",
       "    .dataframe thead th {\n",
       "        text-align: left;\n",
       "    }\n",
       "\n",
       "    .dataframe tbody tr th {\n",
       "        vertical-align: top;\n",
       "    }\n",
       "</style>\n",
       "<table border=\"1\" class=\"dataframe\">\n",
       "  <thead>\n",
       "    <tr style=\"text-align: right;\">\n",
       "      <th></th>\n",
       "      <th>Symbol</th>\n",
       "      <th>Name</th>\n",
       "      <th>Sector</th>\n",
       "    </tr>\n",
       "  </thead>\n",
       "  <tbody>\n",
       "    <tr>\n",
       "      <th>0</th>\n",
       "      <td>MMM</td>\n",
       "      <td>3M Company</td>\n",
       "      <td>Industrials</td>\n",
       "    </tr>\n",
       "    <tr>\n",
       "      <th>1</th>\n",
       "      <td>AOS</td>\n",
       "      <td>A.O. Smith Corp</td>\n",
       "      <td>Industrials</td>\n",
       "    </tr>\n",
       "    <tr>\n",
       "      <th>2</th>\n",
       "      <td>ABT</td>\n",
       "      <td>Abbott Laboratories</td>\n",
       "      <td>Health Care</td>\n",
       "    </tr>\n",
       "    <tr>\n",
       "      <th>3</th>\n",
       "      <td>ABBV</td>\n",
       "      <td>AbbVie Inc.</td>\n",
       "      <td>Health Care</td>\n",
       "    </tr>\n",
       "    <tr>\n",
       "      <th>4</th>\n",
       "      <td>ACN</td>\n",
       "      <td>Accenture plc</td>\n",
       "      <td>Information Technology</td>\n",
       "    </tr>\n",
       "  </tbody>\n",
       "</table>\n",
       "</div>"
      ],
      "text/plain": [
       "  Symbol                 Name                  Sector\n",
       "0    MMM           3M Company             Industrials\n",
       "1    AOS      A.O. Smith Corp             Industrials\n",
       "2    ABT  Abbott Laboratories             Health Care\n",
       "3   ABBV          AbbVie Inc.             Health Care\n",
       "4    ACN        Accenture plc  Information Technology"
      ]
     },
     "execution_count": 84,
     "metadata": {},
     "output_type": "execute_result"
    }
   ],
   "source": [
    "df = pd.read_csv(csv_file_name_for_top_500)\n",
    "df.head()"
   ]
  },
  {
   "cell_type": "code",
   "execution_count": 85,
   "metadata": {},
   "outputs": [
    {
     "name": "stdout",
     "output_type": "stream",
     "text": [
      "['MMM', 'AOS', 'ABT', 'ABBV', 'ACN', 'ATVI', 'AYI', 'ADBE', 'AAP', 'AMD', 'AES', 'AET', 'AMG', 'AFL', 'A', 'APD', 'AKAM', 'ALK', 'ALB', 'ARE', 'ALXN', 'ALGN', 'ALLE', 'AGN', 'ADS', 'LNT', 'ALL', 'GOOGL', 'GOOG', 'MO', 'AMZN', 'AEE', 'AAL', 'AEP', 'AXP', 'AIG', 'AMT', 'AWK', 'AMP', 'ABC', 'AME', 'AMGN', 'APH', 'APC', 'ADI', 'ANDV', 'ANSS', 'ANTM', 'AON', 'APA', 'AIV', 'AAPL', 'AMAT', 'APTV', 'ADM', 'ARNC', 'AJG', 'AIZ', 'T', 'ADSK', 'ADP', 'AZO', 'AVB', 'AVY', 'BHGE', 'BLL', 'BAC', 'BAX', 'BBT', 'BDX', 'BRK.B', 'BBY', 'BIIB', 'BLK', 'HRB', 'BA', 'BKNG', 'BWA', 'BXP', 'BSX', 'BHF', 'BMY', 'AVGO', 'BF.B', 'CHRW', 'CA', 'COG', 'CDNS', 'CPB', 'COF', 'CAH', 'KMX', 'CCL', 'CAT', 'CBOE', 'CBRE', 'CBS', 'CELG', 'CNC', 'CNP', 'CTL', 'CERN', 'CF', 'SCHW', 'CHTR', 'CVX', 'CMG', 'CB', 'CHD', 'CI', 'XEC', 'CINF', 'CTAS', 'CSCO', 'C', 'CFG', 'CTXS', 'CME', 'CMS', 'KO', 'CTSH', 'CL', 'CMCSA', 'CMA', 'CAG', 'CXO', 'COP', 'ED', 'STZ', 'GLW', 'COST', 'COTY', 'CCI', 'CSRA', 'CSX', 'CMI', 'CVS', 'DHI', 'DHR', 'DRI', 'DVA', 'DE', 'DAL', 'XRAY', 'DVN', 'DLR', 'DFS', 'DISCA', 'DISCK', 'DISH', 'DG', 'DLTR', 'D', 'DOV', 'DWDP', 'DPS', 'DTE', 'DUK', 'DRE', 'DXC', 'ETFC', 'EMN', 'ETN', 'EBAY', 'ECL', 'EIX', 'EW', 'EA', 'EMR', 'ETR', 'EVHC', 'EOG', 'EQT', 'EFX', 'EQIX', 'EQR', 'ESS', 'EL', 'RE', 'ES', 'EXC', 'EXPE', 'EXPD', 'ESRX', 'EXR', 'XOM', 'FFIV', 'FB', 'FAST', 'FRT', 'FDX', 'FIS', 'FITB', 'FE', 'FISV', 'FLIR', 'FLS', 'FLR', 'FMC', 'FL', 'F', 'FTV', 'FBHS', 'BEN', 'FCX', 'GPS', 'GRMN', 'IT', 'GD', 'GE', 'GGP', 'GIS', 'GM', 'GPC', 'GILD', 'GPN', 'GS', 'GT', 'GWW', 'HAL', 'HBI', 'HOG', 'HRS', 'HIG', 'HAS', 'HCA', 'HCP', 'HP', 'HSIC', 'HES', 'HPE', 'HLT', 'HOLX', 'HD', 'HON', 'HRL', 'HST', 'HPQ', 'HUM', 'HBAN', 'HII', 'IDXX', 'INFO', 'ITW', 'ILMN', 'INCY', 'IR', 'INTC', 'ICE', 'IBM', 'IP', 'IPG', 'IFF', 'INTU', 'ISRG', 'IVZ', 'IPGP', 'IQV', 'IRM', 'JBHT', 'JEC', 'SJM', 'JNJ', 'JCI', 'JPM', 'JNPR', 'KSU', 'K', 'KEY', 'KMB', 'KIM', 'KMI', 'KLAC', 'KSS', 'KHC', 'KR', 'LB', 'LLL', 'LH', 'LRCX', 'LEG', 'LEN', 'LUK', 'LLY', 'LNC', 'LKQ', 'LMT', 'L', 'LOW', 'LYB', 'MTB', 'MAC', 'M', 'MRO', 'MPC', 'MAR', 'MMC', 'MLM', 'MAS', 'MA', 'MAT', 'MKC', 'MCD', 'MCK', 'MDT', 'MRK', 'MET', 'MTD', 'MGM', 'KORS', 'MCHP', 'MU', 'MSFT', 'MAA', 'MHK', 'TAP', 'MDLZ', 'MON', 'MNST', 'MCO', 'MS', 'MSI', 'MYL', 'NDAQ', 'NOV', 'NAVI', 'NKTR', 'NTAP', 'NFLX', 'NWL', 'NFX', 'NEM', 'NWSA', 'NWS', 'NEE', 'NLSN', 'NKE', 'NI', 'NBL', 'JWN', 'NSC', 'NTRS', 'NOC', 'NCLH', 'NRG', 'NUE', 'NVDA', 'ORLY', 'OXY', 'OMC', 'OKE', 'ORCL', 'PCAR', 'PKG', 'PH', 'PAYX', 'PYPL', 'PNR', 'PBCT', 'PEP', 'PKI', 'PRGO', 'PFE', 'PCG', 'PM', 'PSX', 'PNW', 'PXD', 'PNC', 'RL', 'PPG', 'PPL', 'PX', 'PFG', 'PG', 'PGR', 'PLD', 'PRU', 'PEG', 'PSA', 'PHM', 'PVH', 'QRVO', 'QCOM', 'PWR', 'DGX', 'RRC', 'RJF', 'RTN', 'O', 'RHT', 'REG', 'REGN', 'RF', 'RSG', 'RMD', 'RHI', 'ROK', 'COL', 'ROP', 'ROST', 'RCL', 'SPGI', 'CRM', 'SBAC', 'SCG', 'SLB', 'STX', 'SEE', 'SRE', 'SHW', 'SPG', 'SWKS', 'SLG', 'SNA', 'SO', 'LUV', 'SWK', 'SBUX', 'STT', 'SRCL', 'SYK', 'STI', 'SIVB', 'SYMC', 'SYF', 'SNPS', 'SYY', 'TROW', 'TTWO', 'TPR', 'TGT', 'TEL', 'FTI', 'TXN', 'TXT', 'BK', 'CLX', 'COO', 'HSY', 'MOS', 'TRV', 'DIS', 'TMO', 'TIF', 'TWX', 'TJX', 'TMK', 'TSS', 'TSCO', 'TDG', 'TRIP', 'FOXA', 'FOX', 'TSN', 'USB', 'UDR', 'ULTA', 'UAA', 'UA', 'UNP', 'UAL', 'UNH', 'UPS', 'URI', 'UTX', 'UHS', 'UNM', 'VFC', 'VLO', 'VAR', 'VTR', 'VRSN', 'VRSK', 'VZ', 'VRTX', 'VIAB', 'V', 'VNO', 'VMC', 'WMT', 'WBA', 'WM', 'WAT', 'WEC', 'WFC', 'WELL', 'WDC', 'WU', 'WRK', 'WY', 'WHR', 'WMB', 'WLTW', 'WYN', 'WYNN', 'XEL', 'XRX', 'XLNX', 'XL', 'XYL', 'YUM', 'ZBH', 'ZION', 'ZTS']\n"
     ]
    }
   ],
   "source": [
    "top_500_companies_list = df['Symbol'].tolist()\n",
    "print(top_500_companies_list)"
   ]
  },
  {
   "cell_type": "code",
   "execution_count": 86,
   "metadata": {
    "collapsed": true
   },
   "outputs": [],
   "source": [
    "# 5/2/2018\n",
    "earning_today = ['AAC', 'ABC', 'AC', 'ACLS', 'ACOR', 'ADP', 'ADRO', 'ADSW', 'AEGN', 'AEL', 'AFG', 'AHC', 'AHL', 'AI', 'AIG', 'ALE', 'ALIM', 'ALPN', 'AME', 'AMOT', 'AMRN', 'ANH', 'ANIK', 'ANSS', 'AOSL', 'APA', 'APTV', 'APU', 'ARCC', 'AREX', 'ARI', 'ARTNA', 'ASC', 'ATO', 'AUY', 'AVA', 'AVDL', 'AWK', 'BAND', 'BBRG', 'BDC', 'BG', 'BIOL', 'BIP', 'BKCC', 'BKEP', 'BLUE', 'BPMC', 'BZH', 'CACI', 'CALI', 'CAMT', 'CAR', 'CAVM', 'CBRE', 'CCM', 'CCRN', 'CDW', 'CECO', 'CERN', 'CF', 'CFMS', 'CFNB', 'CHK', 'CIFS', 'CLH', 'CLI', 'CLR', 'CLX', 'CMPR', 'CNAT', 'CODI', 'COHN', 'CONE', 'CPE', 'CPLA', 'CRTO', 'CRUS', 'CRY', 'CSGS', 'CSII', 'CUB', 'CVS', 'CW', 'CXW', 'CZR', 'DATA', 'DBD', 'DDD', 'DFIN', 'DHIL', 'DIN', 'DNN', 'DNOW', 'DOOR', 'DRRX', 'DX', 'DXCM', 'ECR', 'EDGW', 'EFOI', 'EGL', 'EL', 'ELGX', 'EML', 'ENBL', 'ENR', 'ENSG', 'EQIX', 'ES', 'ESRX', 'ESS', 'EXC', 'EXEL', 'EXTN', 'EZPW', 'FEYE', 'FIT', 'FLKS', 'FLOW', 'FMC', 'FMI', 'FNF', 'FORM', 'FOXF', 'FRAC', 'FRPH', 'FRT', 'FUN', 'GBL', 'GHC', 'GHDX', 'GIB', 'GIL', 'GLAD', 'GLDD', 'GMED', 'GNRC', 'GPL', 'GRAM', 'GRMN', 'GSS', 'GTES', 'GXP', 'H', 'HABT', 'HBB', 'HBIO', 'HBM', 'HCC', 'HCCI', 'HFC', 'HGV', 'HI', 'HIIQ', 'HIVE', 'HK', 'HMN', 'HOLX', 'HOS', 'HRS', 'HSC', 'HST', 'HUM', 'HYH', 'ICFI', 'IDSY', 'IMDZ', 'INN', 'INSM', 'INVT', 'IO', 'IQV', 'IRTC', 'ITG', 'JCAP', 'JMP', 'JRVR', 'KCAP', 'KE', 'KHC', 'KL', 'KMT', 'KW', 'LADR', 'LAMR', 'LEXEA', 'LEXEB', 'LFUS', 'LGCY', 'LHCG', 'LHO', 'LINU', 'LITE', 'LIVN', 'LMRK', 'LNC', 'LNT', 'LNTH', 'LOGI', 'LOPE', 'LPI', 'LSI', 'MA', 'MAA', 'MAC', 'MANT', 'MASI', 'MBUU', 'MCEP', 'MDU', 'MEET', 'MET', 'MFC', 'MFNC', 'MGPI', 'MIC', 'MITT', 'MLR', 'MN', 'MOR', 'MRC', 'MRNS', 'MRO', 'MSG', 'MTDR', 'MTGE', 'MUR', 'MYRG', 'NAO', 'NC', 'NCI', 'NCLH', 'NE', 'NEWT', 'NGVT', 'NHTC', 'NI', 'NLY', 'NPO', 'NSA', 'NSIT', 'NVEC', 'NVMI', 'NVO', 'NVTR', 'NWPX', 'NXPI', 'OCN', 'OIIM', 'OMF', 'OPRX', 'ORBK', 'OSUR', 'OUT', 'OZM', 'PACB', 'PBI', 'PDCE', 'PES', 'PGRE', 'PJT', 'PNW', 'PRSS', 'PRU', 'PXD', 'PXLW', 'QGEN', 'QRVO', 'QTM', 'QTWO', 'RAIL', 'RDWR', 'RGLD', 'ROYT', 'RSG', 'RSPP', 'RTEC', 'RYI', 'RYN', 'S', 'SAFT', 'SEB', 'SFS', 'SGC', 'SGMS', 'SGU', 'SIGI', 'SITE', 'SO', 'SODA', 'SP', 'SPOT', 'SPR', 'SQ', 'SQNS', 'SR', 'SRCI', 'SRDX', 'SRI', 'SSW', 'SSYS', 'STAA', 'STRA', 'SUMR', 'SWM', 'TAHO', 'TAP', 'TCAP', 'TCP', 'TCRD', 'TECH', 'TGB', 'THG', 'TLF', 'TMHC', 'TORM', 'TPVG', 'TRNO', 'TSE', 'TSLA', 'TTEK', 'TTMI', 'TUSK', 'TYL', 'UE', 'UGI', 'UGP', 'UONE', 'UONEK', 'UTHR', 'VNDA', 'VSAR', 'VVV', 'W', 'WCN', 'WD', 'WK', 'WMB', 'WPX', 'WPZ', 'WSR', 'WTI', 'WTM', 'WYN', 'XL', 'XOXO', 'XPL', 'XPO', 'YUM', 'ZIXI', 'ZNGA', 'ZTS']"
   ]
  },
  {
   "cell_type": "code",
   "execution_count": 41,
   "metadata": {
    "collapsed": true
   },
   "outputs": [],
   "source": [
    "# 5/3/2018\n",
    "earning_today = ['AAON', 'AAV', 'AAWW', 'ABCD', 'ABDC', 'ABMD', 'ABUS', 'ACET', 'ACHN', 'ACIA', 'ACUR', 'ADMS', 'ADNT', 'AER', 'AGII', 'AGO', 'AGS', 'AHT', 'AINC', 'AIZ', 'AKCA', 'AKRX', 'ALG', 'ALNY', 'ALRM', 'ALT', 'AMAG', 'AMH', 'AMN', 'ANET', 'APDN', 'APEN', 'APO', 'APPN', 'APRN', 'ARDX', 'ARES', 'AROC', 'ARW', 'ASPN', 'AT', 'ATEN', 'ATGE', 'ATH', 'ATOM', 'ATRA', 'ATTU', 'ATVI', 'AVD', 'AVEO', 'AVP', 'AYR', 'BANX', 'BAP', 'BAS', 'BCE', 'BDX', 'BELFA', 'BELFB', 'BEP', 'BERY', 'BFS', 'BGCP', 'BGS', 'BID', 'BKH', 'BL', 'BLL', 'BNFT', 'BORN', 'BRKR', 'BRSS', 'BSIG', 'BTE', 'BXC', 'BXG', 'CACC', 'CAH', 'CARG', 'CATM', 'CBIO', 'CBM', 'CBPX', 'CBS', 'CC', 'CCOI', 'CCR', 'CDR', 'CEIX', 'CENX', 'CFX', 'CGBD', 'CHD', 'CI', 'CIM', 'CJ', 'CLCT', 'CLMT', 'CMT', 'CNCE', 'CNQ', 'CNSL', 'CNX', 'CNXM', 'CNXN', 'COT', 'CPG', 'CPSI', 'CPT', 'CRC', 'CRIS', 'CRVS', 'CTIC', 'CTRL', 'CTT', 'CVGI', 'CWST', 'CYBR', 'CYRX', 'DCT', 'DMLP', 'DRH', 'DS', 'DVA', 'DVCR', 'DWDP', 'DWSN', 'DXTR', 'DXYN', 'EARN', 'EBS', 'EC', 'ECOL', 'ED', 'EDIT', 'EE', 'EEX', 'EGI', 'EMKR', 'ENIA', 'EOG', 'EPAY', 'EPC', 'ERF', 'ERI', 'ERII', 'ESL', 'ESPR', 'ESTE', 'EVA', 'EXK', 'FDUS', 'FFG', 'FLDM', 'FLR', 'FLT', 'FLY', 'FMS', 'FMSA', 'FND', 'FNMA', 'FTAI', 'FTNT', 'G', 'GEOS', 'GFF', 'GGP', 'GHL', 'GLYC', 'GNCA', 'GNE', 'GOLF', 'GOV', 'GPN', 'GPRO', 'GPX', 'GRFS', 'GSAT', 'GSBD', 'GSIT', 'GTHX', 'GTT', 'HASI', 'HAYN', 'HCP', 'HIFR', 'HII', 'HLF', 'HMHC', 'HPP', 'HR', 'HSON', 'HTGC', 'HZN', 'IBP', 'ICE', 'ICLR', 'IDA', 'IDRA', 'IEP', 'ILG', 'IMKTA', 'INAP', 'INGR', 'INTT', 'INUV', 'INXN', 'IRIX', 'ISDR', 'ISNS', 'ISR', 'ITGR', 'IVR', 'IVTY', 'JASN', 'JAX', 'JBSS', 'JCS', 'JMBA', 'JOBS', 'K', 'KERX', 'KKR', 'KLDX', 'KND', 'KNSL', 'KOP', 'KT', 'LDOS', 'LEE', 'LIND', 'LJPC', 'LKSD', 'LOCO', 'LPLA', 'LPSN', 'LQDT', 'LRAD', 'LXRX', 'LYV', 'MAIN', 'MCHX', 'MCRB', 'MDC', 'MDP', 'MDRX', 'MED', 'MEIP', 'MERC', 'MITL', 'MLCO', 'MMP', 'MPW', 'MRLN', 'MRTX', 'MSCI', 'MSGN', 'MSI', 'MTD', 'MTOR', 'MTX', 'MVIS', 'NAP', 'NERV', 'NEWM', 'NFG', 'NGVC', 'NLNK', 'NMRK', 'NRG', 'NSM', 'NTCT', 'NVEE', 'NVIV', 'NVUS', 'NWHM', 'NYLD', 'NYMT', 'NYNY', 'NYT', 'OA', 'OGE', 'OLED', 'ONE', 'OPNT', 'OR', 'ORBC', 'ORN', 'OSB', 'OSTK', 'P', 'PACDQ', 'PAH', 'PALDF', 'PBA', 'PBF', 'PBFX', 'PCG', 'PCH', 'PCRX', 'PCTY', 'PE', 'PETX', 'PF', 'PFSI', 'PICO', 'PK', 'PLYM', 'PMT', 'PODD', 'POST', 'PPL', 'PRA', 'PTIE', 'PULM', 'PWR', 'RACE', 'RAS', 'REFR', 'REGI', 'REGN', 'RFP', 'RLGY', 'RMAX', 'RMGN', 'RNN', 'RNWK', 'RP', 'RPT', 'RSO', 'RTIX', 'RUBI', 'SAEX', 'SAGE', 'SAMG', 'SBH', 'SBSAA', 'SCCO', 'SEE', 'SEM', 'SFM', 'SHAK', 'SHEN', 'SHLX', 'SIGA', 'SLCT', 'SM', 'SMLP', 'SMP', 'SNN', 'SPAR', 'SPNE', 'SPPI', 'SPXC', 'SRCL', 'SREV', 'SRG', 'SRPT', 'SRTS', 'STAR', 'STC', 'STMP', 'STOR', 'SWIR', 'SWKS', 'SYNL', 'TACO', 'TACT', 'TDC', 'TDY', 'TEGP', 'TEP', 'TEVA', 'TFX', 'TGTX', 'THS', 'TNAV', 'TOWR', 'TPIC', 'TPX', 'TRGP', 'TRVN', 'TSLX', 'TSRO', 'TTPH', 'TUES', 'TVPT', 'TWOU', 'TXMD', 'UEIC', 'UFPT', 'ULBI', 'UNT', 'USPH', 'UTI', 'VAC', 'VEDL', 'VIAV', 'VICI', 'VICL', 'VMC', 'VREX', 'VTVT', 'VXRT', 'WAIR', 'WEB', 'WEX', 'WGL', 'WIFI', 'WIN', 'WING', 'WLDN', 'WLK', 'WLKP', 'WSTG', 'WTS', 'WTW', 'WWE', 'XHR', 'XPER', 'XRX', 'Y', 'YRCW', 'ZAYO', 'ZEUS']"
   ]
  },
  {
   "cell_type": "code",
   "execution_count": 87,
   "metadata": {},
   "outputs": [],
   "source": [
    "def getTop500EarningToday(top_500_companies_list, all_companies_earning_today):\n",
    "    top500_earning_today = []\n",
    "    \n",
    "    for top500 in top_500_companies_list:\n",
    "        if top500 in all_companies_earning_today:\n",
    "            top500_earning_today.append(top500)\n",
    "    \n",
    "    return top500_earning_today"
   ]
  },
  {
   "cell_type": "code",
   "execution_count": 51,
   "metadata": {},
   "outputs": [],
   "source": [
    "def getInfoTechEarningToday(info_tech_company_list, all_companies_earning_today):\n",
    "    info_tech_earning_today = []\n",
    "    for com in info_tech_company_list:\n",
    "        if com in all_companies_earning_today:\n",
    "            info_tech_earning_today.append(com)\n",
    "\n",
    "    return info_tech_earning_today"
   ]
  },
  {
   "cell_type": "code",
   "execution_count": 88,
   "metadata": {},
   "outputs": [
    {
     "name": "stdout",
     "output_type": "stream",
     "text": [
      "TOP 500 Information Technology Companies who has earning report today:\n",
      "    Symbol                       Name                  Sector\n",
      "46    ANSS                      ANSYS  Information Technology\n",
      "60     ADP  Automatic Data Processing  Information Technology\n",
      "222    HRS         Harris Corporation  Information Technology\n",
      "299     MA            Mastercard Inc.  Information Technology\n",
      "382   QRVO                      Qorvo  Information Technology\n"
     ]
    }
   ],
   "source": [
    "print('TOP 500 Information Technology Companies who has earning report today:')\n",
    "\n",
    "top500_earning_today = getTop500EarningToday(top_500_companies_list, earning_today)\n",
    "top500_earning_today_with_info_df = df.loc[df['Symbol'].isin(top500_earning_today) & df['Sector'].isin(['Information Technology'])]\n",
    "\n",
    "print(top500_earning_today_with_info_df)"
   ]
  },
  {
   "cell_type": "code",
   "execution_count": 95,
   "metadata": {},
   "outputs": [
    {
     "name": "stdout",
     "output_type": "stream",
     "text": [
      "ANSS\n",
      "2018-05-01:{'1. open': '161.5800', '2. high': '162.9400', '3. low': '159.6600', '4. close': '161.1100', '5. volume': '315107'}\n",
      "2018-05-02:{'1. open': '160.3400', '2. high': '162.8200', '3. low': '158.6300', '4. close': '160.6100', '5. volume': '493414'}\n",
      "ADP\n",
      "2018-05-01:{'1. open': '112.6500', '2. high': '119.1400', '3. low': '112.5800', '4. close': '118.8000', '5. volume': '2526491'}\n",
      "2018-05-02:{'1. open': '123.0100', '2. high': '123.9900', '3. low': '120.2800', '4. close': '122.0600', '5. volume': '5421362'}\n",
      "HRS\n",
      "2018-05-01:{'1. open': '157.1600', '2. high': '157.5350', '3. low': '151.0200', '4. close': '151.7800', '5. volume': '1228380'}\n",
      "2018-05-02:{'1. open': '153.3000', '2. high': '157.3400', '3. low': '146.3200', '4. close': '146.7600', '5. volume': '1296290'}\n",
      "MA\n",
      "2018-05-01:{'1. open': '178.2700', '2. high': '180.3600', '3. low': '176.9100', '4. close': '180.2500', '5. volume': '4814916'}\n",
      "2018-05-02:{'1. open': '186.2000', '2. high': '188.2500', '3. low': '183.1200', '4. close': '185.8200', '5. volume': '10131874'}\n",
      "QRVO\n",
      "2018-05-01:{'1. open': '68.6500', '2. high': '72.4600', '3. low': '68.3400', '4. close': '71.8000', '5. volume': '2419282'}\n",
      "2018-05-02:{'1. open': '72.0000', '2. high': '74.6900', '3. low': '71.8600', '4. close': '74.2400', '5. volume': '3810002'}\n"
     ]
    }
   ],
   "source": [
    "test_list = top500_earning_today_with_info_df['Symbol'].tolist()\n",
    "for ticker in test_list:\n",
    "    print(ticker)\n",
    "    getTickerAndPriceMovementBeforeAndAfterEarningDay('2018-05-01', ticker)"
   ]
  },
  {
   "cell_type": "code",
   "execution_count": 53,
   "metadata": {},
   "outputs": [
    {
     "name": "stdout",
     "output_type": "stream",
     "text": [
      "['VNET', 'TWOU', 'DDD', 'JOBS', 'WUBA', 'ATEN', 'AAN', 'ACIA', 'ACIW', 'ACMR', 'ATVI', 'ATU', 'ACXM', 'IOTS', 'ADBE', 'AMD', 'AER', 'ACY', 'HIVE', 'AGYS', 'AGMH', 'AL', 'AYR', 'AIRG', 'AMCN', 'ALRM', 'ALLT', 'MDRX', 'AOSL', 'GOOG', 'GOOGL', 'AABA', 'ALTR', 'AYX', 'AMBA', 'AMBR', 'DOX', 'AMRH', 'AMRHW', 'AMSWA', 'AMKR', 'AMN', 'ASYS', 'ADI', 'ANSS', 'APPF', 'APPN', 'AAPL', 'AMAT', 'AAOI', 'APTI', 'AQ', 'ANET', 'ARRS', 'ASGN', 'ASML', 'AZPN', 'ALOT', 'ASUR', 'TEAM', 'ATOM', 'ATTU', 'AUO', 'ADSK', 'ATHM', 'ADP', 'AUTO', 'AVNW', 'AVID', 'AWRE', 'ACLS', 'AXTI', 'BOSC', 'BIDU', 'BAND', 'BBSI', 'BHE', 'BNFT', 'BGSF', 'BILI', 'BKYI', 'BITA', 'BBOX', 'BKI', 'BLKB', 'BB', 'BL', 'BDR', 'BRQS', 'EPAY', 'BOX', 'BLIN          ', 'BCOV', 'AVGO', 'BVSN', 'BRKS', 'CA', 'CCMP', 'CACI', 'CDNS', 'CAI', 'CAMP', 'CSIQ', 'CARB', 'CDLX', 'CARG', 'CARS', 'CASA', 'CSLT', 'CAVM', 'CLS', 'CRNT', 'CDAY', 'CERN', 'CEVA', 'CYOU', 'ECOM          ', 'CHKP', 'CMCM', 'CVR', 'CNIT', 'CCIH', 'CNET', 'IMOS', 'CRUS', 'CSCO', 'CISN', 'CTXS', 'CLDR', 'CTSH', 'CHUBA', 'CHUBK', 'COMM', 'CVLT', 'CPSI', 'CTG', 'CMTL', 'CVON', 'CVONW', 'CVG', 'CLGX', 'CSOD', 'CPAH', 'COUP', 'CRAY', 'CREE', 'CRTO', 'CCRN', 'CSGS', 'CSPI', 'CTS', 'CW', 'CVV', 'CYBR', 'CY', 'CYRN', 'DQ', 'DWCH', 'DVMT', 'DTRM', 'DGII', 'DMRC', 'DGLY', 'DIOD', 'DLHC', 'DOCU', 'DOV', 'DBX', 'DSPG', 'DXC', 'ETN', 'EBIX', 'ELON', 'SATS', 'EDGW', 'EGAN', 'EA', 'EFII', 'ELLI', 'ELTK', 'EMAN', 'EMKR', 'EIGI', 'WATT', 'ERII', 'ENPH', 'EPAM', 'PLUS', 'ERIC', 'EVBG', 'MRAM', 'EVTC', 'EVOL', 'AQUA', 'EXTN', 'EXTR', 'FFIV', 'FB', 'FDS', 'SFUN', 'FNSR', 'FEYE', 'FSLR', 'FISV', 'FIT', 'FIVN', 'FLEX', 'FPAY', 'FSCT', 'FRSX', 'FORM', 'FORTY', 'FTNT', 'FSNN', 'GDI', 'GTES', 'GDS', 'JOB', 'GFN', 'GFNCP', 'GFNSL', 'GIGM', 'GILT', 'GSB', 'GLOB', 'GLUU', 'GDDY', 'GHM', 'GEC', 'GSUM', 'GRPN', 'GVP', 'GSIT', 'GWRE', 'HQCL', 'HLIT', 'HHS', 'HSTM', 'HSII', 'HPE', 'HIMX', 'HDP', 'HPQ', 'HMI', 'HUBS', 'HSON', 'ICHR', 'ICLK', 'INVE', 'IEC', 'INFO', 'ITW', 'IMMR', 'IMPV', 'INFY', 'INOD', 'ISSC', 'INOV', 'IPHI', 'INPX', 'NSP', 'INSE', 'INST', 'IDTI', 'INTC', 'IDN', 'INS', 'LINK', 'IMI', 'INAP', 'IBM', 'IIJI', 'IPG', 'INTX', 'INXN', 'IVAC', 'INTU', 'IPAS', 'IPGP', 'JCOM', 'JASO', 'JBL', 'JKHY', 'JT', 'JKS', 'JMU', 'JBT', 'JNPR', 'KAI', 'KELYA', 'KELYB', 'KTCC', 'KFRC', 'KE', 'KONE', 'KOPN', 'KFY', 'KLIC', 'KVHI', 'KYO', 'LLL', 'LRCX', 'LTRX', 'LSCC', 'LFGR', 'LDOS', 'LTRPA', 'LTRPB', 'LPTH', 'LECO', 'LN', 'LKM', 'LIQT', 'LPSN', 'LOGI', 'LOGM', 'LFIN', 'LORL', 'LXFT', 'MTSI', 'MGIC', 'MX', 'MNGA', 'MJCO', 'MAMS', 'MANH', 'MNTX', 'MAN', 'MRIN', 'MRVL', 'MTCH', 'MTLS', 'MATR', 'MAXR', 'MXIM', 'MXL', 'MGRC', 'MDCA', 'MTBC', 'MTBCP', 'MDSO', 'MLNX', 'MFGP', 'MCHP', 'MU', 'MSCC', 'MSFT', 'MSTR', 'MCRN', 'MIME', 'MNDO', 'MB', 'MIND', 'MINDP', 'MITK', 'MITL', 'MIXT', 'MOBL', 'MODN', 'MOMO', 'MDB', 'MPWR', 'TYPE', 'MOSY', 'MSI', 'MOXC', 'MULE', 'MYSZ', 'NNDM', 'NH', 'NATI', 'NPTN', 'NETE', 'NTAP', 'NLST', 'NTCT', 'NTWK', 'NEWR', 'NICE', 'LASR', 'NOK', 'NUAN', 'NTNX', 'NVEC', 'NVDA', 'NXPI', 'OIIM', 'OCLR', 'OKTA', 'OMCL', 'OMC', 'ON', 'OTIV', 'OSS', 'OOMA', 'OTEX', 'ORCL', 'OSIS', 'PFIN', 'PAGS', 'PANW', 'TEUM', 'PCYG', 'PKE', 'PRKR', 'PAYC', 'PCTY', 'PCTI', 'PDFS', 'PEGA', 'PNR', 'PRFT', 'PERI', 'PLAB', 'PVTL', 'PXLW', 'PLXS', 'PNTR', 'POWI', 'PSDO', 'IPDN', 'PRGS', 'PFPT', 'PRO', 'PTC', 'PSTG', 'QTWO', 'QADA', 'QADB', 'QRVO', 'QCOM', 'QSII', 'QBAK', 'QLYS', 'QTNA', 'QTM', 'QRHC', 'QUIK', 'QUMU', 'RDCM', 'RSYS', 'RMBS', 'RPD', 'RCMT', 'RNWK', 'RP', 'RHT', 'RDVT', 'RWC', 'SOL', 'RENN', 'RCII', 'RESN', 'RXN', 'RBBN', 'RNG', 'RHI', 'RST', 'RBCN', 'RMBL', 'SABR', 'SAIL', 'CRM', 'SANM', 'SAP', 'SPNS', 'SCSC', 'SAIC', 'SGMS', 'SEAC', 'STX', 'SCWX', 'SMI', 'LEDS', 'SMTC', 'SEND', 'SQNS', 'NOW', 'SGOC', 'SEII', 'SHSP', 'PIXY', 'SHOP', 'SSTI', 'SSTK', 'SWIR', 'SIFY', 'SIGM', 'SGMA', 'SILC', 'SLAB', 'SIMO', 'SLP', 'SINA', 'SWKS', 'SGH', 'SMAR', 'SMSI', 'SMTX', 'SNAP', 'SRAX', 'SCKT', 'SOGO', 'SOHU', 'SEDG', 'SOFO', 'SPA', 'ANY', 'SPI', 'SPLK', 'SPSC', 'SPXC', 'FLOW', 'SQ', 'SSNC', 'STAF', 'SXI', 'SRT', 'STLR', 'STLRU', 'STLRW', 'STM', 'SSYS', 'STRM', 'SPWR', 'SMCI', 'SPCB', 'SCON', 'SPRT', 'SWCH', 'SYKE', 'SYMC', 'SYNC', 'SYNA', 'SNCR', 'SNX', 'SNPS', 'SYNT', 'DATA', 'TSM', 'TTWO', 'TLND', 'TECD', 'TCCO', 'TLRA', 'TNC', 'TDC', 'TXN', 'TGH', 'DSGX', 'KEYW', 'MIDD', 'RUBI', 'TSG', 'TTD', 'ULTI', 'TNTR', 'TISA', 'TSEM', 'TACT', 'TZOO', 'TRT', 'TRIP', 'TRTN', 'TRVG', 'TBI', 'TRUE', 'TSRI', 'TTEC', 'TTMI', 'TCX', 'TWLO', 'TWIN', 'TWTR', 'TYL', 'UBNT', 'UCTT', 'UIS', 'UMC', 'URI', 'UPLD', 'VRNS', 'VDSI', 'VECO', 'VEEV', 'VRNT', 'VRSN', 'VRSK', 'VERI', 'VSAT', 'VIAV', 'VRTU', 'VMW', 'VISI', 'VUZI', 'WSTG', 'WEB', 'WB', 'WBT', 'WDC', 'WYY', 'WIT', 'WIX', 'WDAY', 'WK', 'WPP', 'WSCI', 'XRX', 'XLNX', 'XPER', 'XPLR', 'XNET', 'YNDX', 'YEXT', 'YGE', 'YY', 'ZBRA', 'ZDGE', 'ZEN', 'ZIXI', 'ZS', 'ZUO', 'ZNGA']\n"
     ]
    }
   ],
   "source": [
    "df = pd.read_csv(csv_file_name_for_info_tech_companies)\n",
    "df.head()\n",
    "info_tech_company_list = df['Symbol'].tolist()\n",
    "print(info_tech_company_list)"
   ]
  },
  {
   "cell_type": "code",
   "execution_count": 54,
   "metadata": {},
   "outputs": [
    {
     "name": "stdout",
     "output_type": "stream",
     "text": [
      "    Symbol                       Name                  Sector\n",
      "46    ANSS                      ANSYS  Information Technology\n",
      "60     ADP  Automatic Data Processing  Information Technology\n",
      "222    HRS         Harris Corporation  Information Technology\n",
      "299     MA            Mastercard Inc.  Information Technology\n",
      "382   QRVO                      Qorvo  Information Technology\n"
     ]
    }
   ],
   "source": [
    "info_tech_earning_today = getInfoTechEarningToday(info_tech_company_list, earning_today)\n",
    "info_tech_earning_today_with_info_df = df.loc[df['Symbol'].isin(info_tech_earning_today) & df['Sector'].isin(['Information Technology'])]\n",
    "print(top500_earning_today_with_info_df)"
   ]
  },
  {
   "cell_type": "code",
   "execution_count": 104,
   "metadata": {
    "collapsed": true
   },
   "outputs": [],
   "source": [
    "def getTickerAndPriceMovementBeforeAndAfterEarningDay(date, ticker):\n",
    "    date_lst = date.split('-')\n",
    "    before_earning_date = datetime.date(int(date_lst[0]), int(date_lst[1]), int(date_lst[2]))\n",
    "    after_earning_date = before_earning_date + datetime.timedelta(days=1)\n",
    "    \n",
    "    # use alpha vantage to get the daily close price\n",
    "    r = urllib.request.urlopen('https://www.alphavantage.co/query?function=TIME_SERIES_DAILY&symbol=' + ticker + '&apikey=T8HUBVS6MFXA6800')\n",
    "    json_obj = json.loads(r.read())\n",
    "    print(str(before_earning_date) + ':' + str(json_obj['Time Series (Daily)'][before_earning_date.isoformat()]))\n",
    "    print(str(after_earning_date) + ':' + str(json_obj['Time Series (Daily)'][after_earning_date.isoformat()]))\n",
    "\n",
    "def getTickerDailyStockPrice(ticker):\n",
    "    r = urllib.request.urlopen('https://www.alphavantage.co/query?function=TIME_SERIES_DAILY&symbol=' + ticker + '&outputsize=full&apikey=T8HUBVS6MFXA6800')\n",
    "    json_obj = json.loads(r.read())\n",
    "    return json_obj\n",
    "\n",
    "def getDailyStockPriceForPast4Earning(earning_date, ticker):\n",
    "    for date in earning_date:\n",
    "        stock_price_daily_series = getTickerDailyStockPrice(ticker)\n",
    "        date_lst = date.split('-')\n",
    "        before_earning_date = datetime.date(int(date_lst[0]), int(date_lst[1]), int(date_lst[2]))\n",
    "        after_earning_date = before_earning_date + datetime.timedelta(days=1)\n",
    "\n",
    "        print(str(before_earning_date) + ':' + str(stock_price_daily_series['Time Series (Daily)'][before_earning_date.isoformat()]))\n",
    "        print(str(after_earning_date) + ':' + str(stock_price_daily_series['Time Series (Daily)'][after_earning_date.isoformat()]))"
   ]
  },
  {
   "cell_type": "code",
   "execution_count": 105,
   "metadata": {},
   "outputs": [
    {
     "name": "stdout",
     "output_type": "stream",
     "text": [
      "2018-05-01:{'1. open': '166.4102', '2. high': '169.2000', '3. low': '165.2700', '4. close': '169.1000', '5. volume': '51740866'}\n",
      "2018-05-02:{'1. open': '175.2250', '2. high': '177.7500', '3. low': '173.8000', '4. close': '176.5700', '5. volume': '66511949'}\n",
      "2018-02-01:{'1. open': '167.1650', '2. high': '168.6200', '3. low': '166.7600', '4. close': '167.7800', '5. volume': '38099665'}\n",
      "2018-02-02:{'1. open': '166.0000', '2. high': '166.8000', '3. low': '160.1000', '4. close': '160.5000', '5. volume': '85436075'}\n",
      "2017-11-02:{'1. open': '167.6400', '2. high': '168.5000', '3. low': '165.2800', '4. close': '168.1100', '5. volume': '32710040'}\n",
      "2017-11-03:{'1. open': '174.0000', '2. high': '174.2600', '3. low': '171.1200', '4. close': '172.5000', '5. volume': '58683826'}\n",
      "2017-08-01:{'1. open': '149.1000', '2. high': '150.2200', '3. low': '148.4100', '4. close': '150.0500', '5. volume': '24725526'}\n",
      "2017-08-02:{'1. open': '159.2800', '2. high': '159.7500', '3. low': '156.1600', '4. close': '157.1400', '5. volume': '69222793'}\n"
     ]
    }
   ],
   "source": [
    "# Mar2018\t05/01/2018\t2.73\t2.69\t1.49\n",
    "# Dec2017\t02/01/2018\t3.89\t3.82\t1.83\n",
    "# Sep2017\t11/02/2017\t2.07\t1.87\t10.7\n",
    "# Jun2017\t08/01/2017\t1.67\t1.57\t6.37\n",
    "AAPL_earning_date = ['2018-05-01', '2018-02-01', '2017-11-02', '2017-08-01']\n",
    "AAPL_ticker = 'AAPL'\n",
    "getDailyStockPriceForPast4Earning(AAPL_earning_date, AAPL_ticker)"
   ]
  },
  {
   "cell_type": "code",
   "execution_count": 106,
   "metadata": {},
   "outputs": [
    {
     "name": "stdout",
     "output_type": "stream",
     "text": [
      "2018-02-08:{'1. open': '233.8800', '2. high': '235.2200', '3. low': '217.5100', '4. close': '217.5200', '5. volume': '21664353'}\n",
      "2018-02-09:{'1. open': '238.2500', '2. high': '238.8900', '3. low': '217.5200', '4. close': '232.0800', '5. volume': '41044898'}\n",
      "2017-11-09:{'1. open': '205.2700', '2. high': '206.3300', '3. low': '200.3700', '4. close': '205.3200', '5. volume': '20123846'}\n",
      "2017-11-10:{'1. open': '213.0800', '2. high': '218.6700', '3. low': '211.6300', '4. close': '216.1400', '5. volume': '31197127'}\n",
      "2017-08-10:{'1. open': '172.1600', '2. high': '172.6600', '3. low': '164.3300', '4. close': '164.7400', '5. volume': '26065538'}\n",
      "2017-08-11:{'1. open': '157.1400', '2. high': '159.0000', '3. low': '152.9100', '4. close': '155.9600', '5. volume': '37272782'}\n",
      "2017-05-09:{'1. open': '103.0000', '2. high': '104.9300', '3. low': '102.6600', '4. close': '102.9400', '5. volume': '13796401'}\n",
      "2017-05-10:{'1. open': '114.2900', '2. high': '121.8200', '3. low': '114.0200', '4. close': '121.2900', '5. volume': '53227434'}\n"
     ]
    }
   ],
   "source": [
    "# Jan2018\t02/08/2018\t1.57\t1.01\t55.45\n",
    "# Oct2017\t11/09/2017\t1.33\t0.94\t41.49\n",
    "# Jul2017\t08/10/2017\t0.92\t0.61\t50.82\n",
    "# Apr2017\t05/09/2017\t0.82\t0.66\t24.24\n",
    "\n",
    "NVDA_earning_date = ['2018-02-08', '2017-11-09', '2017-08-10', '2017-05-09']\n",
    "NVDA_ticker = 'NVDA'\n",
    "getDailyStockPriceForPast4Earning(NVDA_earning_date, NVDA_ticker)"
   ]
  },
  {
   "cell_type": "code",
   "execution_count": 108,
   "metadata": {},
   "outputs": [
    {
     "name": "stdout",
     "output_type": "stream",
     "text": [
      "2018-02-07:{'1. open': '338.9900', '2. high': '346.0000', '3. low': '335.6600', '4. close': '345.0000', '5. volume': '5846823'}\n",
      "2018-02-08:{'1. open': '343.3100', '2. high': '348.6200', '3. low': '314.6000', '4. close': '315.2300', '5. volume': '9996464'}\n",
      "2017-11-01:{'1. open': '332.2500', '2. high': '332.6100', '3. low': '320.2600', '4. close': '321.0800', '5. volume': '7028856'}\n",
      "2017-11-02:{'1. open': '300.1300', '2. high': '308.6900', '3. low': '292.6300', '4. close': '299.2600', '5. volume': '19731322'}\n",
      "2017-08-02:{'1. open': '318.9400', '2. high': '327.1200', '3. low': '311.2200', '4. close': '325.8900', '5. volume': '9911432'}\n",
      "2017-08-03:{'1. open': '345.3300', '2. high': '350.0000', '3. low': '343.1500', '4. close': '347.0900', '5. volume': '13448583'}\n",
      "2017-05-03:{'1. open': '317.6700', '2. high': '321.5300', '3. low': '310.4500', '4. close': '311.0200', '5. volume': '6278906'}\n",
      "2017-05-04:{'1. open': '307.4400', '2. high': '307.7700', '3. low': '290.7600', '4. close': '295.4600', '5. volume': '14039582'}\n"
     ]
    }
   ],
   "source": [
    "# Dec2017\t02/07/2018\t-3.84\t-3.75\t-2.4\n",
    "# Sep2017\t11/01/2017\t-3.59\t-3.09\t-16.18\n",
    "# Jun2017\t08/02/2017\t-2.04\t-2\t-2\n",
    "# Mar2017\t05/03/2017\t-1.97\t-0.67\t-194.03\n",
    "TSLA_earning_date = ['2018-02-07', '2017-11-01', '2017-08-02', '2017-05-03']\n",
    "TSLA_ticker = 'TSLA'\n",
    "getDailyStockPriceForPast4Earning(TSLA_earning_date, TSLA_ticker)"
   ]
  },
  {
   "cell_type": "code",
   "execution_count": 109,
   "metadata": {},
   "outputs": [
    {
     "name": "stdout",
     "output_type": "stream",
     "text": [
      "2018-02-08:{'1. open': '69.6300', '2. high': '69.7900', '3. low': '65.7600', '4. close': '65.8300', '5. volume': '9778437'}\n",
      "2018-02-09:{'1. open': '66.9900', '2. high': '67.7800', '3. low': '63.3200', '4. close': '67.0800', '5. volume': '17754889'}\n",
      "2017-11-02:{'1. open': '65.4100', '2. high': '65.8400', '3. low': '64.8250', '4. close': '65.4500', '5. volume': '5587306'}\n",
      "2017-11-03:{'1. open': '66.8700', '2. high': '67.0300', '3. low': '62.1100', '4. close': '63.2000', '5. volume': '18650840'}\n",
      "2017-08-03:{'1. open': '63.0100', '2. high': '64.0600', '3. low': '61.7600', '4. close': '63.9700', '5. volume': '11572024'}\n",
      "2017-08-04:{'1. open': '63.0200', '2. high': '63.3000', '3. low': '61.2200', '4. close': '62.0100', '5. volume': '10409797'}\n",
      "2017-05-04:{'1. open': '52.9700', '2. high': '53.3800', '3. low': '52.4600', '4. close': '53.1000', '5. volume': '7601504'}\n",
      "2017-05-05:{'1. open': '54.0050', '2. high': '54.7500', '3. low': '53.0750', '4. close': '53.8300', '5. volume': '10503007'}\n"
     ]
    }
   ],
   "source": [
    "# Dec2017\t02/08/2018\t0.88\t0.91\t-3.3\n",
    "# Sep2017\t11/02/2017\t0.43\t0.45\t-4.44\n",
    "# Jun2017\t08/03/2017\t0.51\t0.25\t104\n",
    "# Mar2017\t05/04/2017\t0.27\t0.16\t68.75\n",
    "ATVI_earning_date = ['2018-02-08', '2017-11-02', '2017-08-03', '2017-05-04']\n",
    "ATVI_ticker = 'ATVI'\n",
    "getDailyStockPriceForPast4Earning(ATVI_earning_date, ATVI_ticker)"
   ]
  },
  {
   "cell_type": "code",
   "execution_count": 101,
   "metadata": {},
   "outputs": [
    {
     "data": {
      "image/png": "[encoded data removed]",
      "text/plain": [
       "<matplotlib.figure.Figure at 0x1b123fd7588>"
      ]
     },
     "metadata": {},
     "output_type": "display_data"
    }
   ],
   "source": [
    "import numpy as np\n",
    "import seaborn as sns\n",
    "import matplotlib.pyplot as plt\n",
    "%matplotlib inline  \n",
    "\n",
    "sns.set(style=\"white\", context=\"talk\")\n",
    "rs = np.random.RandomState(7)\n",
    "\n",
    "\n",
    "# Set up the matplotlib figure\n",
    "f, (ax1, ax2, ax3) = plt.subplots(3, 1, figsize=(8, 6), sharex=True)\n",
    "\n",
    "# Generate some sequential data\n",
    "x = np.array(list(\"ABCDEFGHI\"))\n",
    "y1 = np.arange(1, 10)\n",
    "sns.barplot(x, y1, palette=\"BuGn_d\", ax=ax1)\n",
    "ax1.set_ylabel(\"Sequential\")\n",
    "\n",
    "# Center the data to make it diverging\n",
    "y2 = y1 - 5\n",
    "sns.barplot(x, y2, palette=\"RdBu_r\", ax=ax2)\n",
    "ax2.set_ylabel(\"Diverging\")\n",
    "\n",
    "# Randomly reorder the data to make it qualitative\n",
    "y3 = rs.choice(y1, 9, replace=False)\n",
    "sns.barplot(x, y3, palette=\"Set3\", ax=ax3)\n",
    "ax3.set_ylabel(\"Qualitative\")\n",
    "\n",
    "# Finalize the plot\n",
    "sns.despine(bottom=True)\n",
    "plt.setp(f.axes, yticks=[])\n",
    "plt.tight_layout(h_pad=3)"
   ]
  }
 ],
 "metadata": {
  "kernelspec": {
   "display_name": "Python 3",
   "language": "python",
   "name": "python3"
  },
  "language_info": {
   "codemirror_mode": {
    "name": "ipython",
    "version": 3
   },
   "file_extension": ".py",
   "mimetype": "text/x-python",
   "name": "python",
   "nbconvert_exporter": "python",
   "pygments_lexer": "ipython3",
   "version": "3.6.3"
  }
 },
 "nbformat": 4,
 "nbformat_minor": 2
}
